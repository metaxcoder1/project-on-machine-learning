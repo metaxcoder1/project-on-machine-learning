{
 "cells": [
  {
   "cell_type": "code",
   "execution_count": 1,
   "id": "85432123-a699-47ce-b28b-a274a0731b2f",
   "metadata": {},
   "outputs": [],
   "source": [
    "# declare variable\n",
    "# variable are the containers we used to store any data type \n",
    "X=10"
   ]
  },
  {
   "cell_type": "code",
   "execution_count": 2,
   "id": "3093b97c-3519-49ba-8bf3-97e43b922cec",
   "metadata": {},
   "outputs": [
    {
     "name": "stdout",
     "output_type": "stream",
     "text": [
      "10\n"
     ]
    }
   ],
   "source": [
    "# print the variable\n",
    "print(X)"
   ]
  },
  {
   "cell_type": "code",
   "execution_count": 5,
   "id": "0cb97a3f-60ed-471e-8206-6557db90f14d",
   "metadata": {},
   "outputs": [
    {
     "data": {
      "text/plain": [
       "int"
      ]
     },
     "execution_count": 5,
     "metadata": {},
     "output_type": "execute_result"
    }
   ],
   "source": [
    "# check the data type of the variable\n",
    "type(X)"
   ]
  },
  {
   "cell_type": "code",
   "execution_count": 57,
   "id": "55bd0f68-fc73-41f9-b435-ca36319e9f5b",
   "metadata": {},
   "outputs": [
    {
     "name": "stdout",
     "output_type": "stream",
     "text": [
      "datatype of the variable <class 'int'>\n"
     ]
    }
   ],
   "source": [
    "# create an integer data type\n",
    "int_1=20\n",
    "\n",
    "# show the data type \n",
    "type(int_1)\n",
    "print('datatype of the variable',type(int_1))"
   ]
  },
  {
   "cell_type": "code",
   "execution_count": 61,
   "id": "2380c87b-3498-4e69-b889-195228fedaa5",
   "metadata": {},
   "outputs": [
    {
     "name": "stdout",
     "output_type": "stream",
     "text": [
      "datatype of the variable <class 'float'>\n"
     ]
    }
   ],
   "source": [
    "# create an float datatype\n",
    "float_1=20.38\n",
    "\n",
    "#show the data type\n",
    "type(float_1)\n",
    "print('datatype of the variable',type(float_1))"
   ]
  },
  {
   "cell_type": "code",
   "execution_count": 63,
   "id": "c5ae128f-22a9-421e-87f1-95b2a8bb0ab1",
   "metadata": {},
   "outputs": [
    {
     "name": "stdout",
     "output_type": "stream",
     "text": [
      "datatype of the variable <class 'str'>\n"
     ]
    }
   ],
   "source": [
    "# create an string datatype\n",
    "String_1=\"gopal\"\n",
    "\n",
    "#show the data type\n",
    "type(String_1)\n",
    "print('datatype of the variable',type(String_1))"
   ]
  },
  {
   "cell_type": "code",
   "execution_count": 72,
   "id": "058eaa22-49ec-4890-9b0d-1bfbffb38b1a",
   "metadata": {},
   "outputs": [
    {
     "name": "stdout",
     "output_type": "stream",
     "text": [
      "datatype of the variable <class 'list'>\n",
      "datatype of the variable <class 'list'>\n",
      "datatype of the variable <class 'list'>\n"
     ]
    }
   ],
   "source": [
    "# create an List\n",
    "List_1 =[10,20,30,40,50]\n",
    "List_2 =[10,20,10,30,10.40]\n",
    "List_3 =[\"Gopal\",\"Nirmal\",\"pooja\"]\n",
    "print('datatype of the variable',type(List_1))\n",
    "print('datatype of the variable',type(List_2))\n",
    "print('datatype of the variable',type(List_3))"
   ]
  },
  {
   "cell_type": "code",
   "execution_count": 74,
   "id": "716cb5c4-7c03-455e-ae34-3a6ff643d553",
   "metadata": {},
   "outputs": [
    {
     "name": "stdout",
     "output_type": "stream",
     "text": [
      "datatype of the variable <class 'tuple'>\n",
      "datatype of the variable <class 'tuple'>\n",
      "datatype of the variable <class 'tuple'>\n"
     ]
    }
   ],
   "source": [
    "# create an Tuple\n",
    "Tuple_1 =(10,20,30,40,50)\n",
    "Tuple_2 =(10,20,10,30,10.40)\n",
    "Tuple_3 =(\"Gopal\",\"Nirmal\",\"pooja\")\n",
    "print('datatype of the variable',type(Tuple_1))\n",
    "print('datatype of the variable',type(Tuple_2))\n",
    "print('datatype of the variable',type(Tuple_3))"
   ]
  },
  {
   "cell_type": "code",
   "execution_count": 76,
   "id": "3e2950d9-19e2-4f1f-b717-07a7e9c6731f",
   "metadata": {},
   "outputs": [
    {
     "name": "stdout",
     "output_type": "stream",
     "text": [
      "datatype of the variable <class 'set'>\n",
      "datatype of the variable <class 'set'>\n",
      "datatype of the variable <class 'set'>\n"
     ]
    }
   ],
   "source": [
    "# create an Set \n",
    "set_1 ={10,20,30,40,50}\n",
    "set_2 ={10,20,10,30,10.40}\n",
    "set_3 ={\"Gopal\",\"Nirmal\",\"pooja\"}\n",
    "print('datatype of the variable',type(set_1))\n",
    "print('datatype of the variable',type(set_2))\n",
    "print('datatype of the variable',type(set_3))"
   ]
  },
  {
   "cell_type": "code",
   "execution_count": 78,
   "id": "46840080-ba0d-416d-8bd9-5a95b820b356",
   "metadata": {},
   "outputs": [
    {
     "name": "stdout",
     "output_type": "stream",
     "text": [
      "True\n"
     ]
    }
   ],
   "source": [
    "# create an boolean datatype\n",
    "Boolean_1=True\n",
    "Boolean_2=False\n",
    "\n",
    "print('datatype of the variable',type(Boolean_1))"
   ]
  },
  {
   "cell_type": "code",
   "execution_count": 84,
   "id": "cfc3e7ed-7ca1-4ad3-9341-836288de76c1",
   "metadata": {},
   "outputs": [
    {
     "name": "stdout",
     "output_type": "stream",
     "text": [
      "datatype of the variable <class 'dict'>\n"
     ]
    }
   ],
   "source": [
    "# create an dictionary\n",
    "dictionary_1={\n",
    "    List_1:[1,2,3,4,5,6]}\n",
    "\n",
    "#show the data type\n",
    "print('datatype of the variable',type(List_1))"
   ]
  },
  {
   "cell_type": "code",
   "execution_count": 103,
   "id": "b3b23c23-0b1e-4446-94d3-af29bc0c9ec0",
   "metadata": {},
   "outputs": [
    {
     "name": "stdout",
     "output_type": "stream",
     "text": [
      "[1,2,3,4,5,6]\n"
     ]
    }
   ],
   "source": [
    "# create an dictionary\n",
    "dictionary_1={\n",
    "    \"List_1\":\"[1,2,3,4,5,6]\"}\n",
    "\n",
    "#show the data type\n",
    "print(dictionary_1[\"List_1\"])"
   ]
  },
  {
   "cell_type": "markdown",
   "id": "827b1211-1c7e-425a-b191-3aca05205109",
   "metadata": {},
   "source": [
    "# Basic operations "
   ]
  },
  {
   "cell_type": "code",
   "execution_count": 114,
   "id": "2f87ab60-eb22-46d2-ac5e-71bac6d34344",
   "metadata": {},
   "outputs": [
    {
     "name": "stdout",
     "output_type": "stream",
     "text": [
      "datatype of the variable <class 'float'>\n",
      "datatype of the variable <class 'int'>\n"
     ]
    }
   ],
   "source": [
    "# Task1 type casting\n",
    "Float_2 = 45.96\n",
    "\n",
    "# show the datatype \n",
    "\n",
    "print('datatype of the variable',type(Float_2))\n",
    "\n",
    "#type casting\n",
    "int_2=int(Float_2)\n",
    "\n",
    "print('datatype of the variable',type(int_2))\n",
    "\n",
    "\n"
   ]
  },
  {
   "cell_type": "code",
   "execution_count": 116,
   "id": "3ce89355-716c-408c-ae44-3c82fe3e6304",
   "metadata": {
    "scrolled": true
   },
   "outputs": [
    {
     "name": "stdout",
     "output_type": "stream",
     "text": [
      "datatype of the variable <class 'int'>\n",
      "datatype of the variable <class 'float'>\n"
     ]
    }
   ],
   "source": [
    "# Task2 type casting\n",
    "int_2 = 45\n",
    "\n",
    "# show the datatype \n",
    "\n",
    "print('datatype of the variable',type(int_2))\n",
    "\n",
    "#type casting\n",
    "Float_2=float(int_2)\n",
    "\n",
    "print('datatype of the variable',type(Float_2))\n"
   ]
  },
  {
   "cell_type": "code",
   "execution_count": 5,
   "id": "136a8747-b73f-4c94-b98f-33539cdb3b63",
   "metadata": {},
   "outputs": [
    {
     "name": "stdout",
     "output_type": "stream",
     "text": [
      "Round value 45.123\n"
     ]
    }
   ],
   "source": [
    "#task 3\n",
    "Float_2 = 45.123456789\n",
    "\n",
    "#round the float value by using round()\n",
    "\n",
    "Rounded_values = round(Float_2,3)\n",
    "print(\"Round value\",Rounded_values)"
   ]
  },
  {
   "cell_type": "markdown",
   "id": "adbfb7ae-4927-438f-bb65-a6d59075a175",
   "metadata": {},
   "source": [
    "# arithematic operation on data"
   ]
  },
  {
   "cell_type": "code",
   "execution_count": 15,
   "id": "d2f353a0-5dd1-48b1-9aa9-d06ac1f1ded7",
   "metadata": {},
   "outputs": [
    {
     "name": "stdout",
     "output_type": "stream",
     "text": [
      "Addition of variables are: 30\n"
     ]
    }
   ],
   "source": [
    "#Addition operation\n",
    "# declare variable\n",
    "a=10\n",
    "b=20\n",
    "\n",
    "#perform   the sum \n",
    "sum_1=a+b\n",
    "print(\"Addition of variables are:\",sum_1)"
   ]
  },
  {
   "cell_type": "code",
   "execution_count": 21,
   "id": "70f683f3-f741-48bf-aeb3-7f4d7183540c",
   "metadata": {},
   "outputs": [
    {
     "name": "stdout",
     "output_type": "stream",
     "text": [
      "Subtraction of variables are: -10\n"
     ]
    }
   ],
   "source": [
    "#Subtraction operation\n",
    "# declare variable\n",
    "a=100.\n",
    "b=20\n",
    "\n",
    "#perform  the sum \n",
    "sum_1=a-b\n",
    "print(\"Subtraction of variables are:\",sum_1)"
   ]
  },
  {
   "cell_type": "code",
   "execution_count": 19,
   "id": "c1cef992-88e4-41d2-8b23-4b3931216dcf",
   "metadata": {},
   "outputs": [
    {
     "name": "stdout",
     "output_type": "stream",
     "text": [
      "Multiplication of variables are: 200\n"
     ]
    }
   ],
   "source": [
    "#Multiplication operation\n",
    "# declare variable\n",
    "a=10\n",
    "b=20\n",
    "\n",
    "#perform  the sum \n",
    "sum_1=a*b\n",
    "print(\"Multiplication of variables are:\",sum_1)"
   ]
  },
  {
   "cell_type": "code",
   "execution_count": 17,
   "id": "6bd86bf6-b1e9-469d-96e5-5d75253b5c6c",
   "metadata": {},
   "outputs": [
    {
     "name": "stdout",
     "output_type": "stream",
     "text": [
      "Division of variables are: 0.5\n"
     ]
    }
   ],
   "source": [
    "#Division operation\n",
    "# declare variable\n",
    "a=10\n",
    "b=20\n",
    "\n",
    "#perform  the sum \n",
    "sum_1=a/b\n",
    "print(\"Division of variables are:\",sum_1)"
   ]
  },
  {
   "cell_type": "markdown",
   "id": "6f64b54a-0766-4570-85d4-31b8b03eda92",
   "metadata": {},
   "source": [
    "## user defined function"
   ]
  },
  {
   "cell_type": "code",
   "execution_count": 32,
   "id": "19d0a9fa-3505-469f-871a-3610fee9c29f",
   "metadata": {},
   "outputs": [
    {
     "data": {
      "text/plain": [
       "30"
      ]
     },
     "execution_count": 32,
     "metadata": {},
     "output_type": "execute_result"
    }
   ],
   "source": [
    "# declare the function name as sumation who can perform the addition in the number\n",
    "def submation():\n",
    "    x=10\n",
    "    y=20\n",
    "    submation=x+y\n",
    "    return submation\n",
    "\n",
    "\n",
    "# call the function \n",
    "submation()"
   ]
  },
  {
   "cell_type": "code",
   "execution_count": 34,
   "id": "20eef47a-9f6b-4640-86e0-bd76ac2a65f9",
   "metadata": {},
   "outputs": [
    {
     "data": {
      "text/plain": [
       "-1"
      ]
     },
     "execution_count": 34,
     "metadata": {},
     "output_type": "execute_result"
    }
   ],
   "source": [
    "# declare the function name as sumation \n",
    "# who can perform the Subtraction in the number\n",
    "def submation(x,y):\n",
    "    \n",
    "    submation=x-y\n",
    "    return submation\n",
    "\n",
    "\n",
    "# call the function \n",
    "submation(3,4)"
   ]
  },
  {
   "cell_type": "code",
   "execution_count": 49,
   "id": "380be6f7-3456-4a7e-abab-5974452635c0",
   "metadata": {},
   "outputs": [
    {
     "name": "stdin",
     "output_type": "stream",
     "text": [
      "enter a first number : 23\n",
      "enter a Second number : 11\n"
     ]
    },
    {
     "data": {
      "text/plain": [
       "253"
      ]
     },
     "execution_count": 49,
     "metadata": {},
     "output_type": "execute_result"
    }
   ],
   "source": [
    "# declare the function name as sumation \n",
    "# who can perform the Subtraction in the number\n",
    "def submation():\n",
    "    x=int(input(\"enter a first number :\"))\n",
    "    y=int(input(\"enter a Second number :\"))\n",
    "    submation=x*y\n",
    "    return submation\n",
    "\n",
    "\n",
    "# call the function \n",
    "submation()"
   ]
  },
  {
   "cell_type": "code",
   "execution_count": null,
   "id": "47980c18-43fa-47fd-9e2a-0e9dd09a95ef",
   "metadata": {},
   "outputs": [],
   "source": []
  },
  {
   "cell_type": "code",
   "execution_count": null,
   "id": "5a7b26cd-b94c-4ac6-bce8-26da4c747ff8",
   "metadata": {},
   "outputs": [],
   "source": []
  }
 ],
 "metadata": {
  "kernelspec": {
   "display_name": "Python 3 (ipykernel)",
   "language": "python",
   "name": "python3"
  },
  "language_info": {
   "codemirror_mode": {
    "name": "ipython",
    "version": 3
   },
   "file_extension": ".py",
   "mimetype": "text/x-python",
   "name": "python",
   "nbconvert_exporter": "python",
   "pygments_lexer": "ipython3",
   "version": "3.12.4"
  }
 },
 "nbformat": 4,
 "nbformat_minor": 5
}
